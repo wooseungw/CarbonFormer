{
 "cells": [
  {
   "cell_type": "markdown",
   "metadata": {},
   "source": [
    "컨볼루션 계산량 측정"
   ]
  },
  {
   "cell_type": "code",
   "execution_count": 1,
   "metadata": {},
   "outputs": [
    {
     "name": "stdout",
     "output_type": "stream",
     "text": [
      "64.75\n",
      "256.0\n",
      "128.5\n"
     ]
    }
   ],
   "source": [
    "def conv_output(k, s, p, W) :\n",
    "    return ( W - k + 2*p) / s + 1\n",
    "\n",
    "print(conv_output(7, 4, 3, 256))\n",
    "print(conv_output(5, 1, 2, 256))\n",
    "print(conv_output(3, 2, 1, 256))"
   ]
  },
  {
   "cell_type": "code",
   "execution_count": 3,
   "metadata": {},
   "outputs": [
    {
     "name": "stdout",
     "output_type": "stream",
     "text": [
      "(8, 16, 40, 80)\n"
     ]
    }
   ],
   "source": [
    "tuple1 = (32, 64, 160, 320)\n",
    "divisor = 4\n",
    "result = tuple(map(lambda x: x // divisor, tuple1))\n",
    "print(result)  # 출력: (5.0, 10.0, 15.0)"
   ]
  },
  {
   "cell_type": "markdown",
   "metadata": {},
   "source": [
    "모델 작동 테스트"
   ]
  },
  {
   "cell_type": "code",
   "execution_count": 5,
   "metadata": {},
   "outputs": [],
   "source": [
    "from dataset import CarbonDataset, CarbonDataset_csv    \n",
    "from models.carbonformer import CarbonFormer_v1\n",
    "\n",
    "import torch\n",
    "import torch.nn as nn\n",
    "from torch.utils.data import DataLoader\n",
    "from torchvision import transforms\n",
    "import os\n",
    "import numpy as np\n",
    "import random\n",
    "import matplotlib.pyplot as plt\n",
    "from models.util import select_device\n",
    "from models.metrics import CarbonLoss\n",
    "\n",
    "device = select_device()\n",
    "\n",
    "fp_forest = 'AP25_City_IMAGE.csv'\n",
    "fp_city = 'AP25_Forest_IMAGE.csv'\n",
    "args = {\n",
    "        'dims': (32, 64, 160, 256),\n",
    "        'heads': (1, 2, 5, 8),\n",
    "        'ff_expansion': (8, 8, 4, 4),\n",
    "        'reduction_ratio': (8, 4, 2, 1),\n",
    "        'num_layers': 2,\n",
    "        'decoder_dim': 256,\n",
    "        'num_classes': 4,    \n",
    "        'stage_kernel_stride_pad': [(7, 2, 3), \n",
    "                                   (3, 2, 1), \n",
    "                                   (3, 2, 1), \n",
    "                                   (3, 2, 1)],\n",
    "        \n",
    "}\n",
    "model = CarbonFormer_v1(**args)\n",
    "model.to(device)\n",
    "loss = CarbonLoss(num_classes=4,cls_lambda=1,reg_lambda=0.0005).to(device)\n",
    "# 데이터셋을 위한 변환 정의\n",
    "image_transform = transforms.Compose([\n",
    "    transforms.Resize((256, 256)),\n",
    "    transforms.ToTensor(),\n",
    "])\n",
    "sh_transform = transforms.Compose([\n",
    "    transforms.Resize((256, 256)),\n",
    "    transforms.ToTensor(),\n",
    "])\n",
    "\n",
    "label_transform = transforms.Compose([\n",
    "    transforms.Resize((128, 128)), \n",
    "])\n",
    "resizer = transforms.Compose([\n",
    "    transforms.Resize((128, 128))\n",
    "])\n",
    "    \n",
    "\n",
    "# 데이터셋 및 데이터 로더 생성\n",
    "# forest_train_dataset = CarbonDataset(fp_forest, image_transform, sh_transform, label_transform,mode=\"Train\")\n",
    "# forest_train_loader = DataLoader(forest_train_dataset, batch_size=1, shuffle=True,pin_memory=True)\n",
    "\n",
    "forest_val_dataset = CarbonDataset_csv(fp_forest, image_transform,sh_transform, label_transform,mode=\"Valid\")\n",
    "forest_val_loader = DataLoader(forest_val_dataset, batch_size=1, shuffle=True,pin_memory=True)\n",
    "\n",
    "# city_train_dataset = CarbonDataset(fp_city, image_transform, sh_transform, label_transform,mode=\"Train\")\n",
    "# city_train_loader = DataLoader(city_train_dataset, batch_size=1, shuffle=True,pin_memory=True)\n",
    "\n",
    "city_val_dataset = CarbonDataset_csv(fp_city, image_transform,sh_transform, label_transform,mode=\"Valid\")\n",
    "city_val_loader = DataLoader(city_val_dataset, batch_size=1, shuffle=True,pin_memory=True)\n"
   ]
  },
  {
   "cell_type": "code",
   "execution_count": 6,
   "metadata": {},
   "outputs": [
    {
     "name": "stdout",
     "output_type": "stream",
     "text": [
      "torch.Size([1, 4, 128, 128])\n",
      "torch.Size([1, 1, 128, 128])\n",
      "[INFO] Register count_convNd() for <class 'torch.nn.modules.conv.Conv2d'>.\n",
      "[INFO] Register zero_ops() for <class 'torch.nn.modules.container.Sequential'>.\n",
      "[INFO] Register count_upsample() for <class 'torch.nn.modules.upsampling.Upsample'>.\n",
      "FLOPs: 19.056G\n",
      "파라미터 수: 8.520M\n"
     ]
    }
   ],
   "source": [
    "from thop import profile\n",
    "from thop import clever_format\n",
    "# Get a batch of data\n",
    "batch = next(iter(city_val_loader))\n",
    "\n",
    "# Extract the input from the batch\n",
    "x = batch[0].to(device)\n",
    "sh = batch[1].to(device)\n",
    "carbon = batch[2].to(device)\n",
    "gt = batch[3].to(device)\n",
    "\n",
    "# Pass the input through the model\n",
    "gt_pred,carbon_pred = model(x,sh)\n",
    "\n",
    "# Print the output\n",
    "print(gt_pred.shape)\n",
    "print(carbon_pred.shape)\n",
    "\n",
    "flops, params = profile(model, inputs=(x,sh))\n",
    "\n",
    "# FLOPs를 사람이 읽기 쉬운 형식으로 변환\n",
    "flops, params = clever_format([flops, params], \"%.3f\")\n",
    "\n",
    "print(f\"FLOPs: {flops}\")\n",
    "print(f\"파라미터 수: {params}\")\n"
   ]
  }
 ],
 "metadata": {
  "kernelspec": {
   "display_name": "transformer",
   "language": "python",
   "name": "python3"
  },
  "language_info": {
   "codemirror_mode": {
    "name": "ipython",
    "version": 3
   },
   "file_extension": ".py",
   "mimetype": "text/x-python",
   "name": "python",
   "nbconvert_exporter": "python",
   "pygments_lexer": "ipython3",
   "version": "3.12.2"
  }
 },
 "nbformat": 4,
 "nbformat_minor": 2
}
